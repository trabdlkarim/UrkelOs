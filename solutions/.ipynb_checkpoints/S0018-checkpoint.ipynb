{
 "cells": [
  {
   "cell_type": "markdown",
   "metadata": {},
   "source": [
    "# Maximum path sum I\n",
    "\n",
    "# Problem 18\n",
    "\n",
    "By starting at the top of the triangle below and moving to adjacent numbers on the row below, the maximum total from top to bottom is 23.\n",
    "\n",
    "                      3\n",
    "                     7 4\n",
    "                    2 4 6\n",
    "                   8 5 9 3\n",
    "\n",
    "That is, 3 + 7 + 4 + 9 = 23.\n",
    "\n",
    "Find the maximum total from top to bottom of the triangle below:\n",
    "\n",
    "                     75\n",
    "                    95 64\n",
    "                  17 47 82\n",
    "                 18 35 87 10\n",
    "                20 04 82 47 65\n",
    "              19 01 23 75 03 34\n",
    "             88 02 77 73 07 63 67\n",
    "            99 65 04 28 06 16 70 92\n",
    "          41 41 26 56 83 40 80 70 33\n",
    "         41 48 72 33 47 32 37 16 94 29\n",
    "        53 71 44 65 25 43 91 52 97 51 14\n",
    "       70 11 33 28 77 73 17 78 39 68 17 57\n",
    "      91 71 52 38 17 14 91 43 58 50 27 29 48\n",
    "     63 66 04 68 89 53 67 30 73 16 69 87 40 31\n",
    "    04 62 98 27 23 09 70 98 73 93 38 53 60 04 23\n",
    "\n",
    "NOTE: As there are only 16384 routes, it is possible to solve this problem by trying every route. However, Problem 67, is the same challenge with a triangle containing one-hundred rows; it cannot be solved by brute force, and requires a clever method! ;o)"
   ]
  },
  {
   "cell_type": "markdown",
   "metadata": {},
   "source": [
    "# Solution 18"
   ]
  },
  {
   "cell_type": "code",
   "execution_count": 1,
   "metadata": {},
   "outputs": [],
   "source": [
    "mini_tri = [[3,0,0,0],[7,4,0,0],[2,4,6,0],[8,5,9,3]]"
   ]
  },
  {
   "cell_type": "code",
   "execution_count": 2,
   "metadata": {},
   "outputs": [],
   "source": [
    "triangle = [[75,'','','','','','','','','','','','','',''],[95,64,'','','','','','','','','','','','',''],[17,47,82,'','','','','','','','','','','',''],[18,35,87,10,'','','','','','','','','','',''],[20,4,82,47,65,'','','','','','','','','',''],[19,1,23,75,3,34,'','','','','','','',''],[88,2,77,73,7,63,67,'','','','','','','',''],[99,65,4,28,6,16,70,92,'','','','','','',''],[41,41,26,56,83,40,80,70,33,'','','','','',''],[41,48,72,33,47,32,37,16,94,29,'','','','',''],[53,71,44,65,25,43,91,52,97,51,14,'','','',''],[70,11,33,28,77,73,17,78,39,68,17,57,'','',''],[91,71,52,38,17,14,91,43,58,50,27,29,48,'',''],[63,66,4,68,89,53,67,30,73,16,69,87,40,31,''],[4,62,98,27,23,9,70,98,73,93,38,53,60,4,23]]"
   ]
  },
  {
   "cell_type": "code",
   "execution_count": 3,
   "metadata": {},
   "outputs": [],
   "source": [
    "def print_triangle(triangle):\n",
    "    for i in range(len(triangle)):\n",
    "        for j in range(i+1):\n",
    "            print(\"%02i\"%triangle[i][j],end=\" \")\n",
    "        print(\"\\n\")"
   ]
  },
  {
   "cell_type": "code",
   "execution_count": 4,
   "metadata": {},
   "outputs": [
    {
     "name": "stdout",
     "output_type": "stream",
     "text": [
      "03 \n",
      "\n",
      "07 04 \n",
      "\n",
      "02 04 06 \n",
      "\n",
      "08 05 09 03 \n",
      "\n"
     ]
    }
   ],
   "source": [
    "print_triangle(mini_tri)"
   ]
  },
  {
   "cell_type": "code",
   "execution_count": 5,
   "metadata": {},
   "outputs": [
    {
     "name": "stdout",
     "output_type": "stream",
     "text": [
      "75 \n",
      "\n",
      "95 64 \n",
      "\n",
      "17 47 82 \n",
      "\n",
      "18 35 87 10 \n",
      "\n",
      "20 04 82 47 65 \n",
      "\n",
      "19 01 23 75 03 34 \n",
      "\n",
      "88 02 77 73 07 63 67 \n",
      "\n",
      "99 65 04 28 06 16 70 92 \n",
      "\n",
      "41 41 26 56 83 40 80 70 33 \n",
      "\n",
      "41 48 72 33 47 32 37 16 94 29 \n",
      "\n",
      "53 71 44 65 25 43 91 52 97 51 14 \n",
      "\n",
      "70 11 33 28 77 73 17 78 39 68 17 57 \n",
      "\n",
      "91 71 52 38 17 14 91 43 58 50 27 29 48 \n",
      "\n",
      "63 66 04 68 89 53 67 30 73 16 69 87 40 31 \n",
      "\n",
      "04 62 98 27 23 09 70 98 73 93 38 53 60 04 23 \n",
      "\n"
     ]
    }
   ],
   "source": [
    "print_triangle(triangle)"
   ]
  },
  {
   "cell_type": "code",
   "execution_count": 6,
   "metadata": {},
   "outputs": [],
   "source": [
    "def max_path_sum(triangle):\n",
    "    s = triangle[0][0]\n",
    "    l = [s]\n",
    "    j=0\n",
    "    for i in range(len(triangle)-1):\n",
    "        a = triangle[i+1][j]\n",
    "        b = triangle[i+1][j+1]\n",
    "        if a < b: \n",
    "            s += b\n",
    "            l.append(b)\n",
    "            j += 1\n",
    "        else: \n",
    "            s += a\n",
    "            l.append(a)\n",
    "    return l,s"
   ]
  },
  {
   "cell_type": "code",
   "execution_count": 7,
   "metadata": {},
   "outputs": [
    {
     "data": {
      "text/plain": [
       "([3, 7, 4, 9], 23)"
      ]
     },
     "execution_count": 7,
     "metadata": {},
     "output_type": "execute_result"
    }
   ],
   "source": [
    "max_path_sum(mini_tri)"
   ]
  },
  {
   "cell_type": "code",
   "execution_count": 8,
   "metadata": {},
   "outputs": [
    {
     "data": {
      "text/plain": [
       "([75, 95, 47, 87, 82, 75, 73, 28, 83, 47, 43, 73, 91, 67, 98], 1064)"
      ]
     },
     "execution_count": 8,
     "metadata": {},
     "output_type": "execute_result"
    }
   ],
   "source": [
    "max_path_sum(triangle)"
   ]
  }
 ],
 "metadata": {
  "kernelspec": {
   "display_name": "Python 3",
   "language": "python",
   "name": "python3"
  },
  "language_info": {
   "codemirror_mode": {
    "name": "ipython",
    "version": 3
   },
   "file_extension": ".py",
   "mimetype": "text/x-python",
   "name": "python",
   "nbconvert_exporter": "python",
   "pygments_lexer": "ipython3",
   "version": "3.7.3"
  }
 },
 "nbformat": 4,
 "nbformat_minor": 4
}
