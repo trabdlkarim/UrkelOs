{
 "cells": [
  {
   "cell_type": "markdown",
   "metadata": {},
   "source": [
    "# Number letter counts\n",
    "\n",
    "# Problem 17\n",
    "If the numbers 1 to 5 are written out in words: one, two, three, four, five, then there are 3 + 3 + 5 + 4 + 4 = 19 letters used in total.\n",
    "\n",
    "If all the numbers from 1 to 1000 (one thousand) inclusive were written out in words, how many letters would be used?\n",
    "\n",
    "\n",
    "NOTE: Do not count spaces or hyphens. For example, 342 (three hundred and forty-two) contains 23 letters and 115 (one hundred and fifteen) contains 20 letters. The use of \"and\" when writing out numbers is in compliance with British usage."
   ]
  },
  {
   "cell_type": "markdown",
   "metadata": {},
   "source": [
    "# Solution 17"
   ]
  },
  {
   "cell_type": "code",
   "execution_count": 74,
   "metadata": {},
   "outputs": [],
   "source": [
    "d = {1:\"one\",2:\"two\",3:\"three\",4:\"four\",5:\"five\",6:\"six\",7:\"seven\",8:\"eight\",9:\"nine\",10:\"ten\",11:\"eleven\",12:\"twelve\",13:\"thirteen\",14:\"fourteen\",15:\"fifteen\",16:\"sixteen\",17:\"seventeen\",18:\"eighteen\",19:\"nineteen\",20:\"twenty\",30:\"thirty\",40:\"fourty\",50:\"fifty\",60:\"sixty\",70:\"seventy\",80:\"eighty\",90:\"ninety\",100:\"one hundred\",1000:\"one thousand\",1000000:\"one million\"}"
   ]
  },
  {
   "cell_type": "code",
   "execution_count": 100,
   "metadata": {},
   "outputs": [],
   "source": [
    "def write_num_word(n):\n",
    "    hundred = d[100].replace(\"one \",\"\")\n",
    "    thousand = d[1000].replace(\"one \",\"\")\n",
    "    million = d[1000000].replace(\"one \",\"\")\n",
    "    for i in d.keys():\n",
    "        if i==n: return d[n]\n",
    "    num_str = str(n)\n",
    "    l = len(num_str) \n",
    "    if l == 2:\n",
    "        d_k1 = int(num_str[0]+'0')\n",
    "        d_k2 = int(num_str[1])\n",
    "        return d[d_k1] + \"-\" + d[d_k2]\n",
    "    elif l == 3:\n",
    "        d_k1 = int(num_str[0])\n",
    "        d_k2 = int(num_str[1:])\n",
    "        return d[d_k1]+\" \"+ hundred+\" and \" + write_num_word(d_k2)\n",
    "    elif l == 4:\n",
    "        thousand = d[1000].replace(\"one \",\"\")\n",
    "        d_k1 = int(num_str[0])\n",
    "        d_k2 = int(num_str[1:])\n",
    "        return write_num_word(d_k1)+\" \"+ thousand+\" \" + write_num_word(d_k2)\n",
    "    elif l == 5:\n",
    "        d_k1 = int(num_str[:2])\n",
    "        d_k2 = int(num_str[2:])\n",
    "        return write_num_word(d_k1)+\" \"+ thousand+\" \" + write_num_word(d_k2)\n",
    "    elif l == 6:\n",
    "        d_k1 = int(num_str[0:3])\n",
    "        d_k2 = int(num_str[3:6])\n",
    "        return write_num_word(d_k1)+\" \"+ thousand+\" \" + write_num_word(d_k2)\n",
    "    elif l == 7:\n",
    "        d_k1 = int(num_str[0])\n",
    "        d_k2 = int(num_str[1:])\n",
    "        return write_num_word(d_k1)+\" \"+ million+\" \" + write_num_word(d_k2)\n",
    "    elif l == 8:\n",
    "        d_k1 = int(num_str[:2])\n",
    "        d_k2 = int(num_str[2:])\n",
    "        return write_num_word(d_k1)+\" \"+ million+\" \" + write_num_word(d_k2)\n",
    "    elif l == 9:\n",
    "        d_k1 = int(num_str[:3])\n",
    "        d_k2 = int(num_str[3:])\n",
    "        return write_num_word(d_k1)+\" \"+ million+\" \" + write_num_word(d_k2)"
   ]
  },
  {
   "cell_type": "code",
   "execution_count": 101,
   "metadata": {},
   "outputs": [
    {
     "data": {
      "text/plain": [
       "'one hundred and seventy-five million eight hundred and ninety-three thousand five hundred and eighty-eight'"
      ]
     },
     "execution_count": 101,
     "metadata": {},
     "output_type": "execute_result"
    }
   ],
   "source": [
    "write_num_word(175893588)"
   ]
  },
  {
   "cell_type": "code",
   "execution_count": 102,
   "metadata": {},
   "outputs": [],
   "source": [
    "def count_letters(n):\n",
    "    c_l = 0\n",
    "    for i in range(1,n+1):\n",
    "        n_w = write_num_word(i)\n",
    "        n_w = n_w.replace(\" \",\"\")\n",
    "        n_w = n_w.replace(\"-\",\"\")\n",
    "        c_l += len(n_w)\n",
    "    return c_l"
   ]
  },
  {
   "cell_type": "code",
   "execution_count": 104,
   "metadata": {},
   "outputs": [
    {
     "data": {
      "text/plain": [
       "19"
      ]
     },
     "execution_count": 104,
     "metadata": {},
     "output_type": "execute_result"
    }
   ],
   "source": [
    "count_letters(5)"
   ]
  },
  {
   "cell_type": "code",
   "execution_count": 105,
   "metadata": {},
   "outputs": [
    {
     "data": {
      "text/plain": [
       "39"
      ]
     },
     "execution_count": 105,
     "metadata": {},
     "output_type": "execute_result"
    }
   ],
   "source": [
    "count_letters(10)"
   ]
  }
 ],
 "metadata": {
  "kernelspec": {
   "display_name": "Python 3",
   "language": "python",
   "name": "python3"
  },
  "language_info": {
   "codemirror_mode": {
    "name": "ipython",
    "version": 3
   },
   "file_extension": ".py",
   "mimetype": "text/x-python",
   "name": "python",
   "nbconvert_exporter": "python",
   "pygments_lexer": "ipython3",
   "version": "3.7.3"
  }
 },
 "nbformat": 4,
 "nbformat_minor": 4
}
