{
 "cells": [
  {
   "cell_type": "markdown",
   "metadata": {},
   "source": [
    "# Number letter counts\n",
    "\n",
    "# Problem 17\n",
    "If the numbers 1 to 5 are written out in words: one, two, three, four, five, then there are 3 + 3 + 5 + 4 + 4 = 19 letters used in total.\n",
    "\n",
    "If all the numbers from 1 to 1000 (one thousand) inclusive were written out in words, how many letters would be used?\n",
    "\n",
    "\n",
    "NOTE: Do not count spaces or hyphens. For example, 342 (three hundred and forty-two) contains 23 letters and 115 (one hundred and fifteen) contains 20 letters. The use of \"and\" when writing out numbers is in compliance with British usage."
   ]
  },
  {
   "cell_type": "markdown",
   "metadata": {},
   "source": [
    "# Solution 17"
   ]
  },
  {
   "cell_type": "code",
   "execution_count": 74,
   "metadata": {},
   "outputs": [],
   "source": [
    "d = {1:\"one\",2:\"two\",3:\"three\",4:\"four\",5:\"five\",6:\"six\",7:\"seven\",8:\"eight\",9:\"nine\",10:\"ten\",11:\"eleven\",12:\"twelve\",13:\"thirteen\",14:\"fourteen\",15:\"fifteen\",16:\"sixteen\",17:\"seventeen\",18:\"eighteen\",19:\"nineteen\",20:\"twenty\",30:\"thirty\",40:\"fourty\",50:\"fifty\",60:\"sixty\",70:\"seventy\",80:\"eighty\",90:\"ninety\",100:\"one hundred\",1000:\"one thousand\",1000000:\"one million\"}"
   ]
  },
  {
   "cell_type": "code",
   "execution_count": 79,
   "metadata": {},
   "outputs": [],
   "source": [
    "def write_num_word(n):\n",
    "    keys = d.keys()\n",
    "    for i in keys:\n",
    "        if i==n: return d[n]\n",
    "    num_str = str(n)\n",
    "    l = len(num_str) \n",
    "    if l == 2:\n",
    "        d_k1 = int(num_str[0]+'0')\n",
    "        d_k2 = int(num_str[1])\n",
    "        return d[d_k1] + \"-\" + d[d_k2]\n",
    "    elif l == 3:\n",
    "        hundred = d[100].replace(\"one \",\"\")\n",
    "        d_k1 = int(num_str[0])\n",
    "        d_k2 = int(num_str[1:])\n",
    "        return d[d_k1]+\" \"+ hundred+\" and \" + write_num_word(d_k2)\n",
    "    elif l==4:\n",
    "        thousand = d[1000].replace(\"one \",\"\")\n",
    "        d_k1 = int(num_str[0])\n",
    "        d_k2 = int(num_str[1:])\n",
    "        return write_num_word(d_k1)+\" \"+ thousand+\" \" + write_num_word(d_k2)\n",
    "        \n",
    "    elif l==6:\n",
    "        thousand = d[1000].replace(\"one \",\"\")\n",
    "        d_k1 = int(num_str[0:3])\n",
    "        d_k2 = int(num_str[3:6])\n",
    "        return write_num_word(d_k1)+\" \"+ thousand+\" \" + write_num_word(d_k2)"
   ]
  },
  {
   "cell_type": "code",
   "execution_count": 80,
   "metadata": {},
   "outputs": [
    {
     "data": {
      "text/plain": [
       "'three thousand five hundred and eighty-five'"
      ]
     },
     "execution_count": 80,
     "metadata": {},
     "output_type": "execute_result"
    }
   ],
   "source": [
    "write_num_word(3585)"
   ]
  },
  {
   "cell_type": "code",
   "execution_count": 82,
   "metadata": {},
   "outputs": [
    {
     "data": {
      "text/plain": [
       "''"
      ]
     },
     "execution_count": 82,
     "metadata": {},
     "output_type": "execute_result"
    }
   ],
   "source": [
    "\"aaaa\".replace(\"aa\",\"\")"
   ]
  },
  {
   "cell_type": "code",
   "execution_count": 65,
   "metadata": {},
   "outputs": [
    {
     "data": {
      "text/plain": [
       "'hundred'"
      ]
     },
     "execution_count": 65,
     "metadata": {},
     "output_type": "execute_result"
    }
   ],
   "source": [
    "\"one hundred\".replace(\"one \",\"\")"
   ]
  }
 ],
 "metadata": {
  "kernelspec": {
   "display_name": "Python 3",
   "language": "python",
   "name": "python3"
  },
  "language_info": {
   "codemirror_mode": {
    "name": "ipython",
    "version": 3
   },
   "file_extension": ".py",
   "mimetype": "text/x-python",
   "name": "python",
   "nbconvert_exporter": "python",
   "pygments_lexer": "ipython3",
   "version": "3.7.3"
  }
 },
 "nbformat": 4,
 "nbformat_minor": 4
}
